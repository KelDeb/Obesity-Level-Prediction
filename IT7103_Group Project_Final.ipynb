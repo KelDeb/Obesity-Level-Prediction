{
 "cells": [
  {
   "cell_type": "markdown",
   "id": "8d908f3f",
   "metadata": {},
   "source": [
    "In this notebook, we will go through common  models provided by scikit-learn, including\n",
    "\n",
    "- Linear Regression\n",
    "- Decision Tree  \n",
    "- Support Vector Machine\n",
    "- Random Forest\n",
    "\n",
    "We will use a modified obesity data file found on Kaggle and the UCI Machine Learning Reppository.\n",
    "\n",
    "# Problem to Solve\n",
    "Our goal is to Predict the Obesity Level based on Hrs of Daily Tech Usage\n",
    "\n",
    "\n",
    "<h4>Import and Preprocess Data</h4>\n",
    "\n",
    "We will first import the data, drop columns that are not needed and preprocess the data."
   ]
  },
  {
   "cell_type": "code",
   "execution_count": 1,
   "id": "54c2da78",
   "metadata": {},
   "outputs": [],
   "source": [
    "import pandas as pd\n",
    "import numpy as np\n",
    "obesity = pd.read_csv('Obesity In the US.csv') "
   ]
  },
  {
   "cell_type": "markdown",
   "id": "e904e6ba",
   "metadata": {},
   "source": [
    "The attributes are a wide range from age, gender, eating habits and physical abilities.  The data is also mixed with numerical and continous data for a broder analysis."
   ]
  },
  {
   "cell_type": "code",
   "execution_count": 2,
   "id": "4e8573d7",
   "metadata": {},
   "outputs": [
    {
     "data": {
      "text/html": [
       "<div>\n",
       "<style scoped>\n",
       "    .dataframe tbody tr th:only-of-type {\n",
       "        vertical-align: middle;\n",
       "    }\n",
       "\n",
       "    .dataframe tbody tr th {\n",
       "        vertical-align: top;\n",
       "    }\n",
       "\n",
       "    .dataframe thead th {\n",
       "        text-align: right;\n",
       "    }\n",
       "</style>\n",
       "<table border=\"1\" class=\"dataframe\">\n",
       "  <thead>\n",
       "    <tr style=\"text-align: right;\">\n",
       "      <th></th>\n",
       "      <th>Gender</th>\n",
       "      <th>Age</th>\n",
       "      <th>Height (cm)</th>\n",
       "      <th>Weight (lbs)</th>\n",
       "      <th>Family History</th>\n",
       "      <th>FAVC</th>\n",
       "      <th># of Veggies</th>\n",
       "      <th># of Daily Meals</th>\n",
       "      <th>Food Between Meals</th>\n",
       "      <th>Smoke</th>\n",
       "      <th>Daily Water</th>\n",
       "      <th>Monitor Calories</th>\n",
       "      <th>Physical Activity Level</th>\n",
       "      <th>Hrs of Daily Tech Usage</th>\n",
       "      <th>Alcohol Consumption</th>\n",
       "      <th>Transportation Used</th>\n",
       "      <th>Obesity Level</th>\n",
       "    </tr>\n",
       "  </thead>\n",
       "  <tbody>\n",
       "    <tr>\n",
       "      <th>0</th>\n",
       "      <td>Female</td>\n",
       "      <td>15</td>\n",
       "      <td>168</td>\n",
       "      <td>189.60</td>\n",
       "      <td>Yes</td>\n",
       "      <td>Yes</td>\n",
       "      <td>3</td>\n",
       "      <td>3</td>\n",
       "      <td>Sometimes</td>\n",
       "      <td>No</td>\n",
       "      <td>1</td>\n",
       "      <td>No</td>\n",
       "      <td>3</td>\n",
       "      <td>2</td>\n",
       "      <td>No</td>\n",
       "      <td>Walking</td>\n",
       "      <td>5</td>\n",
       "    </tr>\n",
       "    <tr>\n",
       "      <th>1</th>\n",
       "      <td>Female</td>\n",
       "      <td>16</td>\n",
       "      <td>166</td>\n",
       "      <td>127.87</td>\n",
       "      <td>No</td>\n",
       "      <td>No</td>\n",
       "      <td>2</td>\n",
       "      <td>1</td>\n",
       "      <td>Sometimes</td>\n",
       "      <td>No</td>\n",
       "      <td>1</td>\n",
       "      <td>No</td>\n",
       "      <td>0</td>\n",
       "      <td>1</td>\n",
       "      <td>No</td>\n",
       "      <td>Walking</td>\n",
       "      <td>2</td>\n",
       "    </tr>\n",
       "    <tr>\n",
       "      <th>2</th>\n",
       "      <td>Female</td>\n",
       "      <td>16</td>\n",
       "      <td>157</td>\n",
       "      <td>108.03</td>\n",
       "      <td>No</td>\n",
       "      <td>Yes</td>\n",
       "      <td>2</td>\n",
       "      <td>4</td>\n",
       "      <td>Always</td>\n",
       "      <td>No</td>\n",
       "      <td>2</td>\n",
       "      <td>No</td>\n",
       "      <td>0</td>\n",
       "      <td>1</td>\n",
       "      <td>Sometimes</td>\n",
       "      <td>Public_Transportation</td>\n",
       "      <td>2</td>\n",
       "    </tr>\n",
       "    <tr>\n",
       "      <th>3</th>\n",
       "      <td>Female</td>\n",
       "      <td>16</td>\n",
       "      <td>166</td>\n",
       "      <td>127.87</td>\n",
       "      <td>No</td>\n",
       "      <td>No</td>\n",
       "      <td>2</td>\n",
       "      <td>1</td>\n",
       "      <td>Sometimes</td>\n",
       "      <td>No</td>\n",
       "      <td>1</td>\n",
       "      <td>No</td>\n",
       "      <td>0</td>\n",
       "      <td>1</td>\n",
       "      <td>No</td>\n",
       "      <td>Walking</td>\n",
       "      <td>2</td>\n",
       "    </tr>\n",
       "    <tr>\n",
       "      <th>4</th>\n",
       "      <td>Female</td>\n",
       "      <td>16</td>\n",
       "      <td>160</td>\n",
       "      <td>125.66</td>\n",
       "      <td>No</td>\n",
       "      <td>Yes</td>\n",
       "      <td>3</td>\n",
       "      <td>3</td>\n",
       "      <td>Sometimes</td>\n",
       "      <td>No</td>\n",
       "      <td>1</td>\n",
       "      <td>No</td>\n",
       "      <td>3</td>\n",
       "      <td>0</td>\n",
       "      <td>No</td>\n",
       "      <td>Public_Transportation</td>\n",
       "      <td>2</td>\n",
       "    </tr>\n",
       "  </tbody>\n",
       "</table>\n",
       "</div>"
      ],
      "text/plain": [
       "   Gender  Age  Height (cm)  Weight (lbs) Family History FAVC  # of Veggies  \\\n",
       "0  Female   15          168        189.60            Yes  Yes             3   \n",
       "1  Female   16          166        127.87             No   No             2   \n",
       "2  Female   16          157        108.03             No  Yes             2   \n",
       "3  Female   16          166        127.87             No   No             2   \n",
       "4  Female   16          160        125.66             No  Yes             3   \n",
       "\n",
       "   # of Daily Meals Food Between Meals Smoke  Daily Water Monitor Calories  \\\n",
       "0                 3          Sometimes    No            1               No   \n",
       "1                 1          Sometimes    No            1               No   \n",
       "2                 4             Always    No            2               No   \n",
       "3                 1          Sometimes    No            1               No   \n",
       "4                 3          Sometimes    No            1               No   \n",
       "\n",
       "   Physical Activity Level  Hrs of Daily Tech Usage Alcohol Consumption  \\\n",
       "0                        3                        2                  No   \n",
       "1                        0                        1                  No   \n",
       "2                        0                        1           Sometimes   \n",
       "3                        0                        1                  No   \n",
       "4                        3                        0                  No   \n",
       "\n",
       "    Transportation Used   Obesity Level  \n",
       "0                Walking              5  \n",
       "1                Walking              2  \n",
       "2  Public_Transportation              2  \n",
       "3                Walking              2  \n",
       "4  Public_Transportation              2  "
      ]
     },
     "execution_count": 2,
     "metadata": {},
     "output_type": "execute_result"
    }
   ],
   "source": [
    "obesity.head()"
   ]
  },
  {
   "cell_type": "code",
   "execution_count": 3,
   "id": "16351e57",
   "metadata": {},
   "outputs": [
    {
     "data": {
      "text/html": [
       "<div>\n",
       "<style scoped>\n",
       "    .dataframe tbody tr th:only-of-type {\n",
       "        vertical-align: middle;\n",
       "    }\n",
       "\n",
       "    .dataframe tbody tr th {\n",
       "        vertical-align: top;\n",
       "    }\n",
       "\n",
       "    .dataframe thead th {\n",
       "        text-align: right;\n",
       "    }\n",
       "</style>\n",
       "<table border=\"1\" class=\"dataframe\">\n",
       "  <thead>\n",
       "    <tr style=\"text-align: right;\">\n",
       "      <th></th>\n",
       "      <th>Age</th>\n",
       "      <th>Height (cm)</th>\n",
       "      <th>Weight (lbs)</th>\n",
       "      <th># of Veggies</th>\n",
       "      <th># of Daily Meals</th>\n",
       "      <th>Daily Water</th>\n",
       "      <th>Physical Activity Level</th>\n",
       "      <th>Hrs of Daily Tech Usage</th>\n",
       "      <th>Obesity Level</th>\n",
       "    </tr>\n",
       "  </thead>\n",
       "  <tbody>\n",
       "    <tr>\n",
       "      <th>count</th>\n",
       "      <td>2111.000000</td>\n",
       "      <td>2111.000000</td>\n",
       "      <td>2111.000000</td>\n",
       "      <td>2111.000000</td>\n",
       "      <td>2111.000000</td>\n",
       "      <td>2111.000000</td>\n",
       "      <td>2111.000000</td>\n",
       "      <td>2111.000000</td>\n",
       "      <td>2111.000000</td>\n",
       "    </tr>\n",
       "    <tr>\n",
       "      <th>mean</th>\n",
       "      <td>24.315964</td>\n",
       "      <td>169.982946</td>\n",
       "      <td>190.889621</td>\n",
       "      <td>2.423496</td>\n",
       "      <td>2.687826</td>\n",
       "      <td>2.014685</td>\n",
       "      <td>1.006632</td>\n",
       "      <td>0.664614</td>\n",
       "      <td>4.112269</td>\n",
       "    </tr>\n",
       "    <tr>\n",
       "      <th>std</th>\n",
       "      <td>6.357078</td>\n",
       "      <td>9.432006</td>\n",
       "      <td>57.741815</td>\n",
       "      <td>0.583905</td>\n",
       "      <td>0.809680</td>\n",
       "      <td>0.688616</td>\n",
       "      <td>0.895462</td>\n",
       "      <td>0.674009</td>\n",
       "      <td>1.985062</td>\n",
       "    </tr>\n",
       "    <tr>\n",
       "      <th>min</th>\n",
       "      <td>14.000000</td>\n",
       "      <td>145.000000</td>\n",
       "      <td>85.980000</td>\n",
       "      <td>1.000000</td>\n",
       "      <td>1.000000</td>\n",
       "      <td>1.000000</td>\n",
       "      <td>0.000000</td>\n",
       "      <td>0.000000</td>\n",
       "      <td>1.000000</td>\n",
       "    </tr>\n",
       "    <tr>\n",
       "      <th>25%</th>\n",
       "      <td>20.000000</td>\n",
       "      <td>163.000000</td>\n",
       "      <td>144.345000</td>\n",
       "      <td>2.000000</td>\n",
       "      <td>3.000000</td>\n",
       "      <td>2.000000</td>\n",
       "      <td>0.000000</td>\n",
       "      <td>0.000000</td>\n",
       "      <td>2.000000</td>\n",
       "    </tr>\n",
       "    <tr>\n",
       "      <th>50%</th>\n",
       "      <td>23.000000</td>\n",
       "      <td>170.000000</td>\n",
       "      <td>182.980000</td>\n",
       "      <td>2.000000</td>\n",
       "      <td>3.000000</td>\n",
       "      <td>2.000000</td>\n",
       "      <td>1.000000</td>\n",
       "      <td>1.000000</td>\n",
       "      <td>4.000000</td>\n",
       "    </tr>\n",
       "    <tr>\n",
       "      <th>75%</th>\n",
       "      <td>26.000000</td>\n",
       "      <td>177.000000</td>\n",
       "      <td>236.845000</td>\n",
       "      <td>3.000000</td>\n",
       "      <td>3.000000</td>\n",
       "      <td>2.000000</td>\n",
       "      <td>2.000000</td>\n",
       "      <td>1.000000</td>\n",
       "      <td>6.000000</td>\n",
       "    </tr>\n",
       "    <tr>\n",
       "      <th>max</th>\n",
       "      <td>61.000000</td>\n",
       "      <td>198.000000</td>\n",
       "      <td>381.400000</td>\n",
       "      <td>3.000000</td>\n",
       "      <td>4.000000</td>\n",
       "      <td>3.000000</td>\n",
       "      <td>3.000000</td>\n",
       "      <td>2.000000</td>\n",
       "      <td>7.000000</td>\n",
       "    </tr>\n",
       "  </tbody>\n",
       "</table>\n",
       "</div>"
      ],
      "text/plain": [
       "               Age  Height (cm)  Weight (lbs)  # of Veggies  # of Daily Meals  \\\n",
       "count  2111.000000  2111.000000   2111.000000   2111.000000       2111.000000   \n",
       "mean     24.315964   169.982946    190.889621      2.423496          2.687826   \n",
       "std       6.357078     9.432006     57.741815      0.583905          0.809680   \n",
       "min      14.000000   145.000000     85.980000      1.000000          1.000000   \n",
       "25%      20.000000   163.000000    144.345000      2.000000          3.000000   \n",
       "50%      23.000000   170.000000    182.980000      2.000000          3.000000   \n",
       "75%      26.000000   177.000000    236.845000      3.000000          3.000000   \n",
       "max      61.000000   198.000000    381.400000      3.000000          4.000000   \n",
       "\n",
       "       Daily Water  Physical Activity Level  Hrs of Daily Tech Usage  \\\n",
       "count  2111.000000              2111.000000              2111.000000   \n",
       "mean      2.014685                 1.006632                 0.664614   \n",
       "std       0.688616                 0.895462                 0.674009   \n",
       "min       1.000000                 0.000000                 0.000000   \n",
       "25%       2.000000                 0.000000                 0.000000   \n",
       "50%       2.000000                 1.000000                 1.000000   \n",
       "75%       2.000000                 2.000000                 1.000000   \n",
       "max       3.000000                 3.000000                 2.000000   \n",
       "\n",
       "       Obesity Level  \n",
       "count    2111.000000  \n",
       "mean        4.112269  \n",
       "std         1.985062  \n",
       "min         1.000000  \n",
       "25%         2.000000  \n",
       "50%         4.000000  \n",
       "75%         6.000000  \n",
       "max         7.000000  "
      ]
     },
     "execution_count": 3,
     "metadata": {},
     "output_type": "execute_result"
    }
   ],
   "source": [
    "obesity.describe()"
   ]
  },
  {
   "cell_type": "code",
   "execution_count": 4,
   "id": "0a0a570a",
   "metadata": {},
   "outputs": [
    {
     "data": {
      "text/plain": [
       "Gender                      object\n",
       "Age                          int64\n",
       "Height (cm)                  int64\n",
       "Weight (lbs)               float64\n",
       "Family History              object\n",
       "FAVC                        object\n",
       "# of Veggies                 int64\n",
       "# of Daily Meals             int64\n",
       "Food Between Meals          object\n",
       "Smoke                       object\n",
       "Daily Water                  int64\n",
       "Monitor Calories            object\n",
       "Physical Activity Level      int64\n",
       "Hrs of Daily Tech Usage      int64\n",
       "Alcohol Consumption         object\n",
       "Transportation Used         object\n",
       "Obesity Level                int64\n",
       "dtype: object"
      ]
     },
     "execution_count": 4,
     "metadata": {},
     "output_type": "execute_result"
    }
   ],
   "source": [
    "obesity.dtypes"
   ]
  },
  {
   "cell_type": "code",
   "execution_count": 5,
   "id": "870efd2f",
   "metadata": {},
   "outputs": [
    {
     "data": {
      "text/html": [
       "<div>\n",
       "<style scoped>\n",
       "    .dataframe tbody tr th:only-of-type {\n",
       "        vertical-align: middle;\n",
       "    }\n",
       "\n",
       "    .dataframe tbody tr th {\n",
       "        vertical-align: top;\n",
       "    }\n",
       "\n",
       "    .dataframe thead th {\n",
       "        text-align: right;\n",
       "    }\n",
       "</style>\n",
       "<table border=\"1\" class=\"dataframe\">\n",
       "  <thead>\n",
       "    <tr style=\"text-align: right;\">\n",
       "      <th></th>\n",
       "      <th>Gender</th>\n",
       "      <th>Age</th>\n",
       "      <th>Height (cm)</th>\n",
       "      <th>Weight (lbs)</th>\n",
       "      <th># of Veggies</th>\n",
       "      <th># of Daily Meals</th>\n",
       "      <th>Food Between Meals</th>\n",
       "      <th>Daily Water</th>\n",
       "      <th>Physical Activity Level</th>\n",
       "      <th>Hrs of Daily Tech Usage</th>\n",
       "      <th>Obesity Level</th>\n",
       "    </tr>\n",
       "  </thead>\n",
       "  <tbody>\n",
       "    <tr>\n",
       "      <th>0</th>\n",
       "      <td>Female</td>\n",
       "      <td>15</td>\n",
       "      <td>168</td>\n",
       "      <td>189.60</td>\n",
       "      <td>3</td>\n",
       "      <td>3</td>\n",
       "      <td>Sometimes</td>\n",
       "      <td>1</td>\n",
       "      <td>3</td>\n",
       "      <td>2</td>\n",
       "      <td>5</td>\n",
       "    </tr>\n",
       "    <tr>\n",
       "      <th>1</th>\n",
       "      <td>Female</td>\n",
       "      <td>16</td>\n",
       "      <td>166</td>\n",
       "      <td>127.87</td>\n",
       "      <td>2</td>\n",
       "      <td>1</td>\n",
       "      <td>Sometimes</td>\n",
       "      <td>1</td>\n",
       "      <td>0</td>\n",
       "      <td>1</td>\n",
       "      <td>2</td>\n",
       "    </tr>\n",
       "    <tr>\n",
       "      <th>2</th>\n",
       "      <td>Female</td>\n",
       "      <td>16</td>\n",
       "      <td>157</td>\n",
       "      <td>108.03</td>\n",
       "      <td>2</td>\n",
       "      <td>4</td>\n",
       "      <td>Always</td>\n",
       "      <td>2</td>\n",
       "      <td>0</td>\n",
       "      <td>1</td>\n",
       "      <td>2</td>\n",
       "    </tr>\n",
       "    <tr>\n",
       "      <th>3</th>\n",
       "      <td>Female</td>\n",
       "      <td>16</td>\n",
       "      <td>166</td>\n",
       "      <td>127.87</td>\n",
       "      <td>2</td>\n",
       "      <td>1</td>\n",
       "      <td>Sometimes</td>\n",
       "      <td>1</td>\n",
       "      <td>0</td>\n",
       "      <td>1</td>\n",
       "      <td>2</td>\n",
       "    </tr>\n",
       "    <tr>\n",
       "      <th>4</th>\n",
       "      <td>Female</td>\n",
       "      <td>16</td>\n",
       "      <td>160</td>\n",
       "      <td>125.66</td>\n",
       "      <td>3</td>\n",
       "      <td>3</td>\n",
       "      <td>Sometimes</td>\n",
       "      <td>1</td>\n",
       "      <td>3</td>\n",
       "      <td>0</td>\n",
       "      <td>2</td>\n",
       "    </tr>\n",
       "  </tbody>\n",
       "</table>\n",
       "</div>"
      ],
      "text/plain": [
       "   Gender  Age  Height (cm)  Weight (lbs)  # of Veggies  # of Daily Meals  \\\n",
       "0  Female   15          168        189.60             3                 3   \n",
       "1  Female   16          166        127.87             2                 1   \n",
       "2  Female   16          157        108.03             2                 4   \n",
       "3  Female   16          166        127.87             2                 1   \n",
       "4  Female   16          160        125.66             3                 3   \n",
       "\n",
       "  Food Between Meals  Daily Water  Physical Activity Level  \\\n",
       "0          Sometimes            1                        3   \n",
       "1          Sometimes            1                        0   \n",
       "2             Always            2                        0   \n",
       "3          Sometimes            1                        0   \n",
       "4          Sometimes            1                        3   \n",
       "\n",
       "   Hrs of Daily Tech Usage  Obesity Level  \n",
       "0                        2              5  \n",
       "1                        1              2  \n",
       "2                        1              2  \n",
       "3                        1              2  \n",
       "4                        0              2  "
      ]
     },
     "execution_count": 5,
     "metadata": {},
     "output_type": "execute_result"
    }
   ],
   "source": [
    "#drop not need categorical columns\n",
    "obesity.drop([\"Family History\",\"FAVC\",\"Monitor Calories\",\"Alcohol Consumption\",\"Smoke\",\"Transportation Used \"], axis = 1, inplace = True)\n",
    "obesity.head()"
   ]
  },
  {
   "cell_type": "markdown",
   "id": "95c1b78b",
   "metadata": {},
   "source": [
    "# Split data into training and testing"
   ]
  },
  {
   "cell_type": "code",
   "execution_count": 6,
   "id": "4c860946",
   "metadata": {},
   "outputs": [],
   "source": [
    "import numpy as np\n",
    "\n",
    "# Convert numerical attribute to categorical\n",
    "\n",
    "# We believe that there is a strong correlation between Hours of Daily Tech Usage and Obesity Level. \n",
    "# These are our X, Y \n",
    "\n",
    "# Set limit - ceiling the Hrs of Daily Tech Usage value\n",
    "obesity[\"Hrs Tech Usage_Cat\"] = np.ceil(obesity[\"Hrs of Daily Tech Usage\"])\n",
    "\n",
    "\n",
    "# Label those above 3 as 3 categories\n",
    "da = obesity[\"Hrs Tech Usage_Cat\"].where(obesity[\"Hrs Tech Usage_Cat\"] < 3, 3.0, inplace=True)"
   ]
  },
  {
   "cell_type": "code",
   "execution_count": 7,
   "id": "af91810d",
   "metadata": {},
   "outputs": [],
   "source": [
    "from sklearn.model_selection import StratifiedShuffleSplit\n",
    "\n",
    "split = StratifiedShuffleSplit(n_splits=1, test_size=0.2, random_state=42)\n",
    "for train_index, test_index in split.split(obesity, obesity[\"Hrs of Daily Tech Usage\"]):\n",
    "    strat_train_set = obesity.loc[train_index]\n",
    "    strat_test_set = obesity.loc[test_index]"
   ]
  },
  {
   "cell_type": "code",
   "execution_count": 8,
   "id": "b5ae0515",
   "metadata": {},
   "outputs": [],
   "source": [
    "for set_ in (strat_train_set, strat_test_set):\n",
    "    set_.drop(\"Hrs Tech Usage_Cat\", axis=1, inplace=True)"
   ]
  },
  {
   "cell_type": "code",
   "execution_count": 9,
   "id": "527271fc",
   "metadata": {},
   "outputs": [],
   "source": [
    "obesitylevel = strat_train_set.drop(\"Obesity Level\", axis=1) # drop labels for training set\n",
    "obesity_labels = strat_train_set[\"Obesity Level\"].copy()"
   ]
  },
  {
   "cell_type": "markdown",
   "id": "f88034ae",
   "metadata": {},
   "source": [
    "# Preprocessing Data"
   ]
  },
  {
   "cell_type": "code",
   "execution_count": 10,
   "id": "e008b68d",
   "metadata": {},
   "outputs": [],
   "source": [
    "#Preprocessing\n",
    "from sklearn.preprocessing import FunctionTransformer\n",
    "\n",
    "# get the right column indices: safer than hard-coding indices 3, 4, 7, 8\n",
    "age_ix, height_ix, weight_ix, ActivityLevel_ix = [\n",
    "    list(obesity.columns).index(col)\n",
    "    for col in (\"Age\", \"Height (cm)\",\"Weight (lbs)\",\"Physical Activity Level\" )]\n",
    "\n",
    "\n",
    "attr_adder = FunctionTransformer( validate=False,\n",
    "                                 kw_args={'Age': False})"
   ]
  },
  {
   "cell_type": "code",
   "execution_count": 11,
   "id": "13ef4f8a",
   "metadata": {},
   "outputs": [],
   "source": [
    "from sklearn.pipeline import Pipeline\n",
    "from sklearn.impute import SimpleImputer\n",
    "from sklearn.preprocessing import StandardScaler\n",
    "\n",
    "num_pipeline = Pipeline([\n",
    "        ('imputer', SimpleImputer(strategy=\"median\")),\n",
    "        ('attribs_adder', FunctionTransformer(validate=False)),\n",
    "        ('std_scaler', StandardScaler()),\n",
    "    ])"
   ]
  },
  {
   "cell_type": "code",
   "execution_count": 12,
   "id": "a80832ad",
   "metadata": {},
   "outputs": [],
   "source": [
    "try:\n",
    "    from sklearn.compose import ColumnTransformer\n",
    "except ImportError:\n",
    "    from future_encoders import ColumnTransformer # Scikit-Learn < 0.20"
   ]
  },
  {
   "cell_type": "code",
   "execution_count": 13,
   "id": "fa4edbff",
   "metadata": {},
   "outputs": [],
   "source": [
    "from sklearn.preprocessing import OneHotEncoder\n",
    "\n",
    "attribs = list(obesitylevel)\n",
    "\n",
    "# Transform categorical data to numerical\n",
    "cat_attribs = [\"Gender\", \"Food Between Meals\"]\n",
    "\n",
    "num_attribs = [x for x in attribs if x not in cat_attribs]\n",
    "\n",
    "full_pipeline = ColumnTransformer([\n",
    "        (\"num\", num_pipeline, num_attribs),\n",
    "        (\"cat\", OneHotEncoder(), cat_attribs),\n",
    "    ])\n",
    "\n",
    "obesity_prepared = full_pipeline.fit_transform(obesitylevel)"
   ]
  },
  {
   "cell_type": "code",
   "execution_count": 14,
   "id": "e0ea18e3",
   "metadata": {
    "scrolled": false
   },
   "outputs": [
    {
     "data": {
      "text/plain": [
       "array([[-0.06097873,  0.40949622,  1.77753495, ...,  0.        ,\n",
       "         0.        ,  1.        ],\n",
       "       [-0.99814505,  0.40949622, -0.0582892 , ...,  0.        ,\n",
       "         0.        ,  1.        ],\n",
       "       [-0.84195066,  1.24913134, -0.442175  , ...,  1.        ,\n",
       "         0.        ,  0.        ],\n",
       "       ...,\n",
       "       [ 1.34477074,  2.08876646,  0.51057244, ...,  0.        ,\n",
       "         0.        ,  1.        ],\n",
       "       [-0.52956189,  0.51445061,  1.80871261, ...,  0.        ,\n",
       "         0.        ,  1.        ],\n",
       "       [-0.52956189,  0.09463305, -0.442175  , ...,  0.        ,\n",
       "         0.        ,  1.        ]])"
      ]
     },
     "execution_count": 14,
     "metadata": {},
     "output_type": "execute_result"
    }
   ],
   "source": [
    "obesity_prepared"
   ]
  },
  {
   "cell_type": "markdown",
   "id": "e2c285c7",
   "metadata": {},
   "source": [
    "# Select and train a model among Linear Regression, Decision Tree, SVM, Random Forest to decide best fit model"
   ]
  },
  {
   "cell_type": "code",
   "execution_count": 15,
   "id": "633855fd",
   "metadata": {},
   "outputs": [],
   "source": [
    "from sklearn.metrics import mean_squared_error"
   ]
  },
  {
   "cell_type": "code",
   "execution_count": 16,
   "id": "4b3bf995",
   "metadata": {},
   "outputs": [
    {
     "data": {
      "text/plain": [
       "0.44507373348089163"
      ]
     },
     "execution_count": 16,
     "metadata": {},
     "output_type": "execute_result"
    }
   ],
   "source": [
    "# Linear Regression model\n",
    "from sklearn.linear_model import LinearRegression\n",
    "\n",
    "lin_reg = LinearRegression()\n",
    "lin_reg.fit(obesity_prepared, obesity_labels)\n",
    "\n",
    "obesity_predictions = lin_reg.predict(obesity_prepared)\n",
    "lin_mse = mean_squared_error(obesity_labels, obesity_predictions)\n",
    "lin_rmse = np.sqrt(lin_mse)\n",
    "lin_rmse"
   ]
  },
  {
   "cell_type": "code",
   "execution_count": 17,
   "id": "9b4bb4a7",
   "metadata": {},
   "outputs": [
    {
     "data": {
      "text/plain": [
       "0.0"
      ]
     },
     "execution_count": 17,
     "metadata": {},
     "output_type": "execute_result"
    }
   ],
   "source": [
    "# Decision Tree model\n",
    "from sklearn.tree import DecisionTreeRegressor\n",
    "\n",
    "tree_reg = DecisionTreeRegressor(random_state=42)\n",
    "tree_reg.fit(obesity_prepared, obesity_labels)\n",
    "\n",
    "obesity_predictions = tree_reg.predict(obesity_prepared)\n",
    "tree_mse = mean_squared_error(obesity_labels, obesity_predictions)\n",
    "tree_rmse = np.sqrt(tree_mse)\n",
    "tree_rmse"
   ]
  },
  {
   "cell_type": "code",
   "execution_count": 18,
   "id": "e8ede04c",
   "metadata": {},
   "outputs": [
    {
     "data": {
      "text/plain": [
       "0.23343194395089734"
      ]
     },
     "execution_count": 18,
     "metadata": {},
     "output_type": "execute_result"
    }
   ],
   "source": [
    "# Support Vector Machine model\n",
    "from sklearn.svm import SVR\n",
    "\n",
    "svm_reg = SVR()\n",
    "svm_reg.fit(obesity_prepared, obesity_labels)\n",
    "\n",
    "obesity_predictions = svm_reg.predict(obesity_prepared)\n",
    "svm_mse = mean_squared_error(obesity_labels, obesity_predictions)\n",
    "svm_rmse = np.sqrt(svm_mse)\n",
    "svm_rmse"
   ]
  },
  {
   "cell_type": "code",
   "execution_count": 19,
   "id": "952a7159",
   "metadata": {},
   "outputs": [
    {
     "data": {
      "text/plain": [
       "0.07354432522303708"
      ]
     },
     "execution_count": 19,
     "metadata": {},
     "output_type": "execute_result"
    }
   ],
   "source": [
    "# Random Forest model\n",
    "from sklearn.ensemble import RandomForestRegressor\n",
    "\n",
    "forest_reg = RandomForestRegressor(n_estimators=10, random_state=42)\n",
    "forest_reg.fit(obesity_prepared, obesity_labels)\n",
    "\n",
    "obesity_predictions = forest_reg.predict(obesity_prepared)\n",
    "forest_mse = mean_squared_error(obesity_labels, obesity_predictions)\n",
    "forest_rmse = np.sqrt(forest_mse)\n",
    "forest_rmse\n",
    "\n",
    "# RandomForestRegressor gives us a optimized modal and we want to use cross validation to verify our selection"
   ]
  },
  {
   "cell_type": "markdown",
   "id": "ef46652d",
   "metadata": {},
   "source": [
    "# cross_val on different models"
   ]
  },
  {
   "cell_type": "code",
   "execution_count": 20,
   "id": "9bea7a2a",
   "metadata": {},
   "outputs": [],
   "source": [
    "from sklearn.model_selection import cross_val_score"
   ]
  },
  {
   "cell_type": "code",
   "execution_count": 21,
   "id": "c407e8c8",
   "metadata": {},
   "outputs": [],
   "source": [
    "def display_scores(scores):\n",
    "    print(\"Scores:\", scores)\n",
    "    print(\"Mean:\", scores.mean())\n",
    "    print(\"Standard deviation:\", scores.std())"
   ]
  },
  {
   "cell_type": "code",
   "execution_count": 22,
   "id": "ae70f6f1",
   "metadata": {},
   "outputs": [
    {
     "name": "stdout",
     "output_type": "stream",
     "text": [
      "Scores: [-0.07692308 -0.0591716  -0.08284024 -0.0887574  -0.04142012 -0.04733728\n",
      " -0.0591716  -0.07692308 -0.06547619 -0.05357143]\n",
      "Mean: -0.0651591997745844\n",
      "Standard deviation: 0.014944952747477062\n"
     ]
    }
   ],
   "source": [
    "# cross validation on decision tree regression with 10 cross validations\n",
    "tree_scores = cross_val_score(tree_reg, obesity_prepared, obesity_labels,\n",
    "                         scoring=\"neg_mean_squared_error\", cv=10)\n",
    "tree_rmse_scores = np.sqrt(-tree_scores)\n",
    "display_scores(tree_scores)\n",
    "#Note: we specify n_estimators=10 to avoid a warning about the fact that the default value is going to change to 100 \n",
    "#in Scikit-Learn 0.22."
   ]
  },
  {
   "cell_type": "code",
   "execution_count": 23,
   "id": "f5415c0f",
   "metadata": {},
   "outputs": [
    {
     "name": "stdout",
     "output_type": "stream",
     "text": [
      "Scores: [0.46759318 0.46001993 0.46936883 0.43217782 0.48071472 0.39290174\n",
      " 0.41888072 0.47352764 0.44724114 0.4290324 ]\n",
      "Mean: 0.44714581140868825\n",
      "Standard deviation: 0.026821730336544558\n"
     ]
    }
   ],
   "source": [
    "# cross validation on linear regression with 10 cross validations\n",
    "lin_scores = cross_val_score(lin_reg, obesity_prepared, obesity_labels,\n",
    "                             scoring=\"neg_mean_squared_error\", cv=10)\n",
    "lin_rmse_scores = np.sqrt(-lin_scores)\n",
    "display_scores(lin_rmse_scores)\n"
   ]
  },
  {
   "cell_type": "code",
   "execution_count": 24,
   "id": "0c09c6ea",
   "metadata": {},
   "outputs": [
    {
     "name": "stdout",
     "output_type": "stream",
     "text": [
      "Scores: [0.28291441 0.35869245 0.32887391 0.2802332  0.2855264  0.25906544\n",
      " 0.28414713 0.31542363 0.3192969  0.31095363]\n",
      "Mean: 0.3025127107934425\n",
      "Standard deviation: 0.027865193690004827\n"
     ]
    }
   ],
   "source": [
    "# cross validation on support vector machine regression with 10 cross validations\n",
    "svm_scores = cross_val_score(svm_reg, obesity_prepared, obesity_labels,\n",
    "                             scoring=\"neg_mean_squared_error\", cv=10)\n",
    "svm_rmse_scores = np.sqrt(-svm_scores)\n",
    "display_scores(svm_rmse_scores)"
   ]
  },
  {
   "cell_type": "code",
   "execution_count": 25,
   "id": "9344c17b",
   "metadata": {},
   "outputs": [
    {
     "name": "stdout",
     "output_type": "stream",
     "text": [
      "Scores: [0.17574861 0.18873606 0.24203281 0.20754981 0.16853002 0.16853002\n",
      " 0.19611614 0.1572696  0.16128207 0.17576364]\n",
      "Mean: 0.18415587723746457\n",
      "Standard deviation: 0.02436507986265066\n"
     ]
    }
   ],
   "source": [
    "# cross validation on random forest regression with 10 cross validations\n",
    "forest_scores = cross_val_score(forest_reg, obesity_prepared, obesity_labels,\n",
    "                                scoring=\"neg_mean_squared_error\", cv=10)\n",
    "forest_rmse_scores = np.sqrt(-forest_scores)\n",
    "display_scores(forest_rmse_scores)"
   ]
  },
  {
   "cell_type": "markdown",
   "id": "49a052d8",
   "metadata": {},
   "source": [
    "After training different models with cross validation, Random Forest model seems to fit the best to this training dataset. \n",
    "\n",
    "With this, we picked Random Forest to be our model for fine tune because it gave us a good median result."
   ]
  },
  {
   "cell_type": "markdown",
   "id": "4d0f2863",
   "metadata": {},
   "source": [
    "# Fine tune our model"
   ]
  },
  {
   "cell_type": "code",
   "execution_count": 27,
   "id": "67d133cd",
   "metadata": {},
   "outputs": [
    {
     "data": {
      "text/plain": [
       "GridSearchCV(cv=5, estimator=RandomForestRegressor(random_state=42),\n",
       "             param_grid=[{'max_features': [2, 4, 6, 8],\n",
       "                          'n_estimators': [3, 10, 30]}],\n",
       "             return_train_score=True, scoring='neg_mean_squared_error')"
      ]
     },
     "execution_count": 27,
     "metadata": {},
     "output_type": "execute_result"
    }
   ],
   "source": [
    "from sklearn.model_selection import GridSearchCV\n",
    "\n",
    "param_grid = [\n",
    "    # try 12 (3×4) combinations of hyperparameters\n",
    "    {'n_estimators': [3, 10, 30], 'max_features': [2, 4, 6, 8]},\n",
    "    # then try 6 (2×3) combinations with bootstrap set as False\n",
    "   ]\n",
    "\n",
    "forest_reg = RandomForestRegressor(random_state=42)\n",
    "# train across 5 folds, that's a total of (12+6)*5=90 rounds of training \n",
    "grid_search = GridSearchCV(forest_reg, param_grid, cv=5,\n",
    "                           scoring='neg_mean_squared_error', return_train_score=True)\n",
    "grid_search.fit(obesity_prepared, obesity_labels)"
   ]
  },
  {
   "cell_type": "code",
   "execution_count": 28,
   "id": "1ef07556",
   "metadata": {},
   "outputs": [
    {
     "data": {
      "text/plain": [
       "RandomizedSearchCV(cv=5, estimator=RandomForestRegressor(random_state=42),\n",
       "                   param_distributions={'max_features': <scipy.stats._distn_infrastructure.rv_frozen object at 0x000001641A0468B0>,\n",
       "                                        'n_estimators': <scipy.stats._distn_infrastructure.rv_frozen object at 0x000001641A042F70>},\n",
       "                   random_state=42, scoring='neg_mean_squared_error')"
      ]
     },
     "execution_count": 28,
     "metadata": {},
     "output_type": "execute_result"
    }
   ],
   "source": [
    "from sklearn.model_selection import RandomizedSearchCV\n",
    "from scipy.stats import randint\n",
    "\n",
    "param_distribs = {\n",
    "        'n_estimators': randint(low=1, high=200),\n",
    "        'max_features': randint(low=1, high=8),\n",
    "    }\n",
    "\n",
    "forest_reg = RandomForestRegressor(random_state=42)\n",
    "rnd_search = RandomizedSearchCV(forest_reg, param_distributions=param_distribs,\n",
    "                                n_iter=10, cv=5, scoring='neg_mean_squared_error', random_state=42)\n",
    "rnd_search.fit(obesity_prepared, obesity_labels)"
   ]
  },
  {
   "cell_type": "markdown",
   "id": "f8d0fa27",
   "metadata": {},
   "source": [
    "# Apply to test data"
   ]
  },
  {
   "cell_type": "code",
   "execution_count": 29,
   "id": "dc47665f",
   "metadata": {},
   "outputs": [
    {
     "name": "stdout",
     "output_type": "stream",
     "text": [
      "0.20496208494444876\n",
      "0.20718724242814124\n"
     ]
    }
   ],
   "source": [
    "final_model1 = grid_search.best_estimator_\n",
    "final_model2 = rnd_search.best_estimator_\n",
    "\n",
    "X_test = strat_test_set.drop(\"Obesity Level\", axis=1)\n",
    "y_test = strat_test_set[\"Obesity Level\"].copy()\n",
    "\n",
    "X_test_prepared = full_pipeline.transform(X_test)\n",
    "final_predictions1 = final_model1.predict(X_test_prepared)\n",
    "final_predictions2 = final_model2.predict(X_test_prepared)\n",
    "\n",
    "final_mse1 = mean_squared_error(y_test, final_predictions1)\n",
    "final_rmse1 = np.sqrt(final_mse1)\n",
    "print(final_rmse1)\n",
    "\n",
    "final_mse2 = mean_squared_error(y_test, final_predictions2)\n",
    "final_rmse2 = np.sqrt(final_mse2)\n",
    "print(final_rmse2)"
   ]
  },
  {
   "cell_type": "code",
   "execution_count": 30,
   "id": "9b2f5372",
   "metadata": {},
   "outputs": [],
   "source": [
    "import joblib\n",
    "joblib.dump(final_model1, \"final_model1.pkl\") # DIFF\n",
    "#...\n",
    "my_model_loaded = joblib.load(\"final_model1.pkl\") # DIFF"
   ]
  },
  {
   "cell_type": "markdown",
   "id": "aed067d0",
   "metadata": {},
   "source": [
    "This project was completed by: Tu Vu, Qiana Debeb & Simisola Babatunde\n",
    "\n",
    "Reference \n",
    "Palechor, F. M., & de la Hoz Manotas, A. (2019). Dataset for estimation of obesity levels based on eating habits and physical condition in individuals from Colombia, Peru and Mexico. Data in Brief, 104344"
   ]
  }
 ],
 "metadata": {
  "kernelspec": {
   "display_name": "Python 3 (ipykernel)",
   "language": "python",
   "name": "python3"
  },
  "language_info": {
   "codemirror_mode": {
    "name": "ipython",
    "version": 3
   },
   "file_extension": ".py",
   "mimetype": "text/x-python",
   "name": "python",
   "nbconvert_exporter": "python",
   "pygments_lexer": "ipython3",
   "version": "3.9.7"
  }
 },
 "nbformat": 4,
 "nbformat_minor": 5
}
